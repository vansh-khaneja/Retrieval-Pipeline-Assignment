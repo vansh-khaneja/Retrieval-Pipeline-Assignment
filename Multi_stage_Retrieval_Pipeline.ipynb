{
  "nbformat": 4,
  "nbformat_minor": 0,
  "metadata": {
    "colab": {
      "provenance": [],
      "gpuType": "T4"
    },
    "kernelspec": {
      "name": "python3",
      "display_name": "Python 3"
    },
    "language_info": {
      "name": "python"
    },
    "accelerator": "GPU",
    "widgets": {
      "application/vnd.jupyter.widget-state+json": {
        "d914e927162e418fb18c080039f014cd": {
          "model_module": "@jupyter-widgets/controls",
          "model_name": "HBoxModel",
          "model_module_version": "1.5.0",
          "state": {
            "_dom_classes": [],
            "_model_module": "@jupyter-widgets/controls",
            "_model_module_version": "1.5.0",
            "_model_name": "HBoxModel",
            "_view_count": null,
            "_view_module": "@jupyter-widgets/controls",
            "_view_module_version": "1.5.0",
            "_view_name": "HBoxView",
            "box_style": "",
            "children": [
              "IPY_MODEL_b29aa3aad4fc4c9d9a01740f507ac669",
              "IPY_MODEL_226626999ba44d84b8d849af67a23889",
              "IPY_MODEL_7dd37a0de1174c9485be9b1a7a42907e"
            ],
            "layout": "IPY_MODEL_abbc2d933f7b4bd9b0cbde941eb67b6c"
          }
        },
        "b29aa3aad4fc4c9d9a01740f507ac669": {
          "model_module": "@jupyter-widgets/controls",
          "model_name": "HTMLModel",
          "model_module_version": "1.5.0",
          "state": {
            "_dom_classes": [],
            "_model_module": "@jupyter-widgets/controls",
            "_model_module_version": "1.5.0",
            "_model_name": "HTMLModel",
            "_view_count": null,
            "_view_module": "@jupyter-widgets/controls",
            "_view_module_version": "1.5.0",
            "_view_name": "HTMLView",
            "description": "",
            "description_tooltip": null,
            "layout": "IPY_MODEL_eb99793f0d88419da197c59a3b21496c",
            "placeholder": "​",
            "style": "IPY_MODEL_5fde3ec46a1b4cb680d8f5dbce578836",
            "value": "datasets/fiqa.zip: 100%"
          }
        },
        "226626999ba44d84b8d849af67a23889": {
          "model_module": "@jupyter-widgets/controls",
          "model_name": "FloatProgressModel",
          "model_module_version": "1.5.0",
          "state": {
            "_dom_classes": [],
            "_model_module": "@jupyter-widgets/controls",
            "_model_module_version": "1.5.0",
            "_model_name": "FloatProgressModel",
            "_view_count": null,
            "_view_module": "@jupyter-widgets/controls",
            "_view_module_version": "1.5.0",
            "_view_name": "ProgressView",
            "bar_style": "success",
            "description": "",
            "description_tooltip": null,
            "layout": "IPY_MODEL_8f7f02ea512e434f9c9883f0c6a46824",
            "max": 17948027,
            "min": 0,
            "orientation": "horizontal",
            "style": "IPY_MODEL_c125db93e3394b8a9867d9f77c8286ae",
            "value": 17948027
          }
        },
        "7dd37a0de1174c9485be9b1a7a42907e": {
          "model_module": "@jupyter-widgets/controls",
          "model_name": "HTMLModel",
          "model_module_version": "1.5.0",
          "state": {
            "_dom_classes": [],
            "_model_module": "@jupyter-widgets/controls",
            "_model_module_version": "1.5.0",
            "_model_name": "HTMLModel",
            "_view_count": null,
            "_view_module": "@jupyter-widgets/controls",
            "_view_module_version": "1.5.0",
            "_view_name": "HTMLView",
            "description": "",
            "description_tooltip": null,
            "layout": "IPY_MODEL_303010a0a35f49ec9f8c0d40a5a95d71",
            "placeholder": "​",
            "style": "IPY_MODEL_ea3eeef90e2044a5b31350b74a989441",
            "value": " 17.1M/17.1M [00:02&lt;00:00, 8.35MiB/s]"
          }
        },
        "abbc2d933f7b4bd9b0cbde941eb67b6c": {
          "model_module": "@jupyter-widgets/base",
          "model_name": "LayoutModel",
          "model_module_version": "1.2.0",
          "state": {
            "_model_module": "@jupyter-widgets/base",
            "_model_module_version": "1.2.0",
            "_model_name": "LayoutModel",
            "_view_count": null,
            "_view_module": "@jupyter-widgets/base",
            "_view_module_version": "1.2.0",
            "_view_name": "LayoutView",
            "align_content": null,
            "align_items": null,
            "align_self": null,
            "border": null,
            "bottom": null,
            "display": null,
            "flex": null,
            "flex_flow": null,
            "grid_area": null,
            "grid_auto_columns": null,
            "grid_auto_flow": null,
            "grid_auto_rows": null,
            "grid_column": null,
            "grid_gap": null,
            "grid_row": null,
            "grid_template_areas": null,
            "grid_template_columns": null,
            "grid_template_rows": null,
            "height": null,
            "justify_content": null,
            "justify_items": null,
            "left": null,
            "margin": null,
            "max_height": null,
            "max_width": null,
            "min_height": null,
            "min_width": null,
            "object_fit": null,
            "object_position": null,
            "order": null,
            "overflow": null,
            "overflow_x": null,
            "overflow_y": null,
            "padding": null,
            "right": null,
            "top": null,
            "visibility": null,
            "width": null
          }
        },
        "eb99793f0d88419da197c59a3b21496c": {
          "model_module": "@jupyter-widgets/base",
          "model_name": "LayoutModel",
          "model_module_version": "1.2.0",
          "state": {
            "_model_module": "@jupyter-widgets/base",
            "_model_module_version": "1.2.0",
            "_model_name": "LayoutModel",
            "_view_count": null,
            "_view_module": "@jupyter-widgets/base",
            "_view_module_version": "1.2.0",
            "_view_name": "LayoutView",
            "align_content": null,
            "align_items": null,
            "align_self": null,
            "border": null,
            "bottom": null,
            "display": null,
            "flex": null,
            "flex_flow": null,
            "grid_area": null,
            "grid_auto_columns": null,
            "grid_auto_flow": null,
            "grid_auto_rows": null,
            "grid_column": null,
            "grid_gap": null,
            "grid_row": null,
            "grid_template_areas": null,
            "grid_template_columns": null,
            "grid_template_rows": null,
            "height": null,
            "justify_content": null,
            "justify_items": null,
            "left": null,
            "margin": null,
            "max_height": null,
            "max_width": null,
            "min_height": null,
            "min_width": null,
            "object_fit": null,
            "object_position": null,
            "order": null,
            "overflow": null,
            "overflow_x": null,
            "overflow_y": null,
            "padding": null,
            "right": null,
            "top": null,
            "visibility": null,
            "width": null
          }
        },
        "5fde3ec46a1b4cb680d8f5dbce578836": {
          "model_module": "@jupyter-widgets/controls",
          "model_name": "DescriptionStyleModel",
          "model_module_version": "1.5.0",
          "state": {
            "_model_module": "@jupyter-widgets/controls",
            "_model_module_version": "1.5.0",
            "_model_name": "DescriptionStyleModel",
            "_view_count": null,
            "_view_module": "@jupyter-widgets/base",
            "_view_module_version": "1.2.0",
            "_view_name": "StyleView",
            "description_width": ""
          }
        },
        "8f7f02ea512e434f9c9883f0c6a46824": {
          "model_module": "@jupyter-widgets/base",
          "model_name": "LayoutModel",
          "model_module_version": "1.2.0",
          "state": {
            "_model_module": "@jupyter-widgets/base",
            "_model_module_version": "1.2.0",
            "_model_name": "LayoutModel",
            "_view_count": null,
            "_view_module": "@jupyter-widgets/base",
            "_view_module_version": "1.2.0",
            "_view_name": "LayoutView",
            "align_content": null,
            "align_items": null,
            "align_self": null,
            "border": null,
            "bottom": null,
            "display": null,
            "flex": null,
            "flex_flow": null,
            "grid_area": null,
            "grid_auto_columns": null,
            "grid_auto_flow": null,
            "grid_auto_rows": null,
            "grid_column": null,
            "grid_gap": null,
            "grid_row": null,
            "grid_template_areas": null,
            "grid_template_columns": null,
            "grid_template_rows": null,
            "height": null,
            "justify_content": null,
            "justify_items": null,
            "left": null,
            "margin": null,
            "max_height": null,
            "max_width": null,
            "min_height": null,
            "min_width": null,
            "object_fit": null,
            "object_position": null,
            "order": null,
            "overflow": null,
            "overflow_x": null,
            "overflow_y": null,
            "padding": null,
            "right": null,
            "top": null,
            "visibility": null,
            "width": null
          }
        },
        "c125db93e3394b8a9867d9f77c8286ae": {
          "model_module": "@jupyter-widgets/controls",
          "model_name": "ProgressStyleModel",
          "model_module_version": "1.5.0",
          "state": {
            "_model_module": "@jupyter-widgets/controls",
            "_model_module_version": "1.5.0",
            "_model_name": "ProgressStyleModel",
            "_view_count": null,
            "_view_module": "@jupyter-widgets/base",
            "_view_module_version": "1.2.0",
            "_view_name": "StyleView",
            "bar_color": null,
            "description_width": ""
          }
        },
        "303010a0a35f49ec9f8c0d40a5a95d71": {
          "model_module": "@jupyter-widgets/base",
          "model_name": "LayoutModel",
          "model_module_version": "1.2.0",
          "state": {
            "_model_module": "@jupyter-widgets/base",
            "_model_module_version": "1.2.0",
            "_model_name": "LayoutModel",
            "_view_count": null,
            "_view_module": "@jupyter-widgets/base",
            "_view_module_version": "1.2.0",
            "_view_name": "LayoutView",
            "align_content": null,
            "align_items": null,
            "align_self": null,
            "border": null,
            "bottom": null,
            "display": null,
            "flex": null,
            "flex_flow": null,
            "grid_area": null,
            "grid_auto_columns": null,
            "grid_auto_flow": null,
            "grid_auto_rows": null,
            "grid_column": null,
            "grid_gap": null,
            "grid_row": null,
            "grid_template_areas": null,
            "grid_template_columns": null,
            "grid_template_rows": null,
            "height": null,
            "justify_content": null,
            "justify_items": null,
            "left": null,
            "margin": null,
            "max_height": null,
            "max_width": null,
            "min_height": null,
            "min_width": null,
            "object_fit": null,
            "object_position": null,
            "order": null,
            "overflow": null,
            "overflow_x": null,
            "overflow_y": null,
            "padding": null,
            "right": null,
            "top": null,
            "visibility": null,
            "width": null
          }
        },
        "ea3eeef90e2044a5b31350b74a989441": {
          "model_module": "@jupyter-widgets/controls",
          "model_name": "DescriptionStyleModel",
          "model_module_version": "1.5.0",
          "state": {
            "_model_module": "@jupyter-widgets/controls",
            "_model_module_version": "1.5.0",
            "_model_name": "DescriptionStyleModel",
            "_view_count": null,
            "_view_module": "@jupyter-widgets/base",
            "_view_module_version": "1.2.0",
            "_view_name": "StyleView",
            "description_width": ""
          }
        },
        "2e82d659f1f641fb897f7fc7c8ea4fba": {
          "model_module": "@jupyter-widgets/controls",
          "model_name": "HBoxModel",
          "model_module_version": "1.5.0",
          "state": {
            "_dom_classes": [],
            "_model_module": "@jupyter-widgets/controls",
            "_model_module_version": "1.5.0",
            "_model_name": "HBoxModel",
            "_view_count": null,
            "_view_module": "@jupyter-widgets/controls",
            "_view_module_version": "1.5.0",
            "_view_name": "HBoxView",
            "box_style": "",
            "children": [
              "IPY_MODEL_788c62b2dc0d4adb815e578666b2a1b9",
              "IPY_MODEL_a6c48283e8b942548984ecfc51305d3a",
              "IPY_MODEL_a65d9dc99b114f009975105f2dfce413"
            ],
            "layout": "IPY_MODEL_813f9094da2a4e139ed492b47b6b7a7c"
          }
        },
        "788c62b2dc0d4adb815e578666b2a1b9": {
          "model_module": "@jupyter-widgets/controls",
          "model_name": "HTMLModel",
          "model_module_version": "1.5.0",
          "state": {
            "_dom_classes": [],
            "_model_module": "@jupyter-widgets/controls",
            "_model_module_version": "1.5.0",
            "_model_name": "HTMLModel",
            "_view_count": null,
            "_view_module": "@jupyter-widgets/controls",
            "_view_module_version": "1.5.0",
            "_view_name": "HTMLView",
            "description": "",
            "description_tooltip": null,
            "layout": "IPY_MODEL_ec5c340af20d427b93e64cfcc32b5633",
            "placeholder": "​",
            "style": "IPY_MODEL_523d3af5d7d74a8e816632eb28d69027",
            "value": "100%"
          }
        },
        "a6c48283e8b942548984ecfc51305d3a": {
          "model_module": "@jupyter-widgets/controls",
          "model_name": "FloatProgressModel",
          "model_module_version": "1.5.0",
          "state": {
            "_dom_classes": [],
            "_model_module": "@jupyter-widgets/controls",
            "_model_module_version": "1.5.0",
            "_model_name": "FloatProgressModel",
            "_view_count": null,
            "_view_module": "@jupyter-widgets/controls",
            "_view_module_version": "1.5.0",
            "_view_name": "ProgressView",
            "bar_style": "success",
            "description": "",
            "description_tooltip": null,
            "layout": "IPY_MODEL_e1794ad1805942158e89dbd6e1c400e1",
            "max": 57638,
            "min": 0,
            "orientation": "horizontal",
            "style": "IPY_MODEL_547fdd4d99024ce6b4fba2af295025ee",
            "value": 57638
          }
        },
        "a65d9dc99b114f009975105f2dfce413": {
          "model_module": "@jupyter-widgets/controls",
          "model_name": "HTMLModel",
          "model_module_version": "1.5.0",
          "state": {
            "_dom_classes": [],
            "_model_module": "@jupyter-widgets/controls",
            "_model_module_version": "1.5.0",
            "_model_name": "HTMLModel",
            "_view_count": null,
            "_view_module": "@jupyter-widgets/controls",
            "_view_module_version": "1.5.0",
            "_view_name": "HTMLView",
            "description": "",
            "description_tooltip": null,
            "layout": "IPY_MODEL_46e1e48a26af4b8384fe6ebc2e82fcd6",
            "placeholder": "​",
            "style": "IPY_MODEL_f91085b6d81746f9bce223bb23d76925",
            "value": " 57638/57638 [00:00&lt;00:00, 133786.84it/s]"
          }
        },
        "813f9094da2a4e139ed492b47b6b7a7c": {
          "model_module": "@jupyter-widgets/base",
          "model_name": "LayoutModel",
          "model_module_version": "1.2.0",
          "state": {
            "_model_module": "@jupyter-widgets/base",
            "_model_module_version": "1.2.0",
            "_model_name": "LayoutModel",
            "_view_count": null,
            "_view_module": "@jupyter-widgets/base",
            "_view_module_version": "1.2.0",
            "_view_name": "LayoutView",
            "align_content": null,
            "align_items": null,
            "align_self": null,
            "border": null,
            "bottom": null,
            "display": null,
            "flex": null,
            "flex_flow": null,
            "grid_area": null,
            "grid_auto_columns": null,
            "grid_auto_flow": null,
            "grid_auto_rows": null,
            "grid_column": null,
            "grid_gap": null,
            "grid_row": null,
            "grid_template_areas": null,
            "grid_template_columns": null,
            "grid_template_rows": null,
            "height": null,
            "justify_content": null,
            "justify_items": null,
            "left": null,
            "margin": null,
            "max_height": null,
            "max_width": null,
            "min_height": null,
            "min_width": null,
            "object_fit": null,
            "object_position": null,
            "order": null,
            "overflow": null,
            "overflow_x": null,
            "overflow_y": null,
            "padding": null,
            "right": null,
            "top": null,
            "visibility": null,
            "width": null
          }
        },
        "ec5c340af20d427b93e64cfcc32b5633": {
          "model_module": "@jupyter-widgets/base",
          "model_name": "LayoutModel",
          "model_module_version": "1.2.0",
          "state": {
            "_model_module": "@jupyter-widgets/base",
            "_model_module_version": "1.2.0",
            "_model_name": "LayoutModel",
            "_view_count": null,
            "_view_module": "@jupyter-widgets/base",
            "_view_module_version": "1.2.0",
            "_view_name": "LayoutView",
            "align_content": null,
            "align_items": null,
            "align_self": null,
            "border": null,
            "bottom": null,
            "display": null,
            "flex": null,
            "flex_flow": null,
            "grid_area": null,
            "grid_auto_columns": null,
            "grid_auto_flow": null,
            "grid_auto_rows": null,
            "grid_column": null,
            "grid_gap": null,
            "grid_row": null,
            "grid_template_areas": null,
            "grid_template_columns": null,
            "grid_template_rows": null,
            "height": null,
            "justify_content": null,
            "justify_items": null,
            "left": null,
            "margin": null,
            "max_height": null,
            "max_width": null,
            "min_height": null,
            "min_width": null,
            "object_fit": null,
            "object_position": null,
            "order": null,
            "overflow": null,
            "overflow_x": null,
            "overflow_y": null,
            "padding": null,
            "right": null,
            "top": null,
            "visibility": null,
            "width": null
          }
        },
        "523d3af5d7d74a8e816632eb28d69027": {
          "model_module": "@jupyter-widgets/controls",
          "model_name": "DescriptionStyleModel",
          "model_module_version": "1.5.0",
          "state": {
            "_model_module": "@jupyter-widgets/controls",
            "_model_module_version": "1.5.0",
            "_model_name": "DescriptionStyleModel",
            "_view_count": null,
            "_view_module": "@jupyter-widgets/base",
            "_view_module_version": "1.2.0",
            "_view_name": "StyleView",
            "description_width": ""
          }
        },
        "e1794ad1805942158e89dbd6e1c400e1": {
          "model_module": "@jupyter-widgets/base",
          "model_name": "LayoutModel",
          "model_module_version": "1.2.0",
          "state": {
            "_model_module": "@jupyter-widgets/base",
            "_model_module_version": "1.2.0",
            "_model_name": "LayoutModel",
            "_view_count": null,
            "_view_module": "@jupyter-widgets/base",
            "_view_module_version": "1.2.0",
            "_view_name": "LayoutView",
            "align_content": null,
            "align_items": null,
            "align_self": null,
            "border": null,
            "bottom": null,
            "display": null,
            "flex": null,
            "flex_flow": null,
            "grid_area": null,
            "grid_auto_columns": null,
            "grid_auto_flow": null,
            "grid_auto_rows": null,
            "grid_column": null,
            "grid_gap": null,
            "grid_row": null,
            "grid_template_areas": null,
            "grid_template_columns": null,
            "grid_template_rows": null,
            "height": null,
            "justify_content": null,
            "justify_items": null,
            "left": null,
            "margin": null,
            "max_height": null,
            "max_width": null,
            "min_height": null,
            "min_width": null,
            "object_fit": null,
            "object_position": null,
            "order": null,
            "overflow": null,
            "overflow_x": null,
            "overflow_y": null,
            "padding": null,
            "right": null,
            "top": null,
            "visibility": null,
            "width": null
          }
        },
        "547fdd4d99024ce6b4fba2af295025ee": {
          "model_module": "@jupyter-widgets/controls",
          "model_name": "ProgressStyleModel",
          "model_module_version": "1.5.0",
          "state": {
            "_model_module": "@jupyter-widgets/controls",
            "_model_module_version": "1.5.0",
            "_model_name": "ProgressStyleModel",
            "_view_count": null,
            "_view_module": "@jupyter-widgets/base",
            "_view_module_version": "1.2.0",
            "_view_name": "StyleView",
            "bar_color": null,
            "description_width": ""
          }
        },
        "46e1e48a26af4b8384fe6ebc2e82fcd6": {
          "model_module": "@jupyter-widgets/base",
          "model_name": "LayoutModel",
          "model_module_version": "1.2.0",
          "state": {
            "_model_module": "@jupyter-widgets/base",
            "_model_module_version": "1.2.0",
            "_model_name": "LayoutModel",
            "_view_count": null,
            "_view_module": "@jupyter-widgets/base",
            "_view_module_version": "1.2.0",
            "_view_name": "LayoutView",
            "align_content": null,
            "align_items": null,
            "align_self": null,
            "border": null,
            "bottom": null,
            "display": null,
            "flex": null,
            "flex_flow": null,
            "grid_area": null,
            "grid_auto_columns": null,
            "grid_auto_flow": null,
            "grid_auto_rows": null,
            "grid_column": null,
            "grid_gap": null,
            "grid_row": null,
            "grid_template_areas": null,
            "grid_template_columns": null,
            "grid_template_rows": null,
            "height": null,
            "justify_content": null,
            "justify_items": null,
            "left": null,
            "margin": null,
            "max_height": null,
            "max_width": null,
            "min_height": null,
            "min_width": null,
            "object_fit": null,
            "object_position": null,
            "order": null,
            "overflow": null,
            "overflow_x": null,
            "overflow_y": null,
            "padding": null,
            "right": null,
            "top": null,
            "visibility": null,
            "width": null
          }
        },
        "f91085b6d81746f9bce223bb23d76925": {
          "model_module": "@jupyter-widgets/controls",
          "model_name": "DescriptionStyleModel",
          "model_module_version": "1.5.0",
          "state": {
            "_model_module": "@jupyter-widgets/controls",
            "_model_module_version": "1.5.0",
            "_model_name": "DescriptionStyleModel",
            "_view_count": null,
            "_view_module": "@jupyter-widgets/base",
            "_view_module_version": "1.2.0",
            "_view_name": "StyleView",
            "description_width": ""
          }
        }
      }
    }
  },
  "cells": [
    {
      "cell_type": "markdown",
      "source": [
        "#Importing Libraries"
      ],
      "metadata": {
        "id": "4JThrZvMCCt6"
      }
    },
    {
      "cell_type": "code",
      "execution_count": null,
      "metadata": {
        "id": "7PParFEXBrnM"
      },
      "outputs": [],
      "source": [
        "!pip install beir\n",
        "!pip install sentence-transformers"
      ]
    },
    {
      "cell_type": "markdown",
      "source": [
        "#Downloading FiQA Datset"
      ],
      "metadata": {
        "id": "pnsbMl8LCNci"
      }
    },
    {
      "cell_type": "code",
      "source": [
        "from beir.datasets.data_loader import GenericDataLoader\n",
        "from beir import util\n",
        "\n",
        "dataset = \"fiqa\"\n",
        "url = f\"https://public.ukp.informatik.tu-darmstadt.de/thakur/BEIR/datasets/{dataset}.zip\"\n",
        "\n",
        "data_path = util.download_and_unzip(url, \"datasets\")\n",
        "\n",
        "\n",
        "corpus, queries, qrels = GenericDataLoader(data_folder=data_path).load(split=\"test\")\n",
        "\n",
        "all_questions = list(queries.values())\n",
        "all_answers = [doc_info[\"text\"] for doc_info in corpus.values()]"
      ],
      "metadata": {
        "colab": {
          "base_uri": "https://localhost:8080/",
          "height": 137,
          "referenced_widgets": [
            "d914e927162e418fb18c080039f014cd",
            "b29aa3aad4fc4c9d9a01740f507ac669",
            "226626999ba44d84b8d849af67a23889",
            "7dd37a0de1174c9485be9b1a7a42907e",
            "abbc2d933f7b4bd9b0cbde941eb67b6c",
            "eb99793f0d88419da197c59a3b21496c",
            "5fde3ec46a1b4cb680d8f5dbce578836",
            "8f7f02ea512e434f9c9883f0c6a46824",
            "c125db93e3394b8a9867d9f77c8286ae",
            "303010a0a35f49ec9f8c0d40a5a95d71",
            "ea3eeef90e2044a5b31350b74a989441",
            "2e82d659f1f641fb897f7fc7c8ea4fba",
            "788c62b2dc0d4adb815e578666b2a1b9",
            "a6c48283e8b942548984ecfc51305d3a",
            "a65d9dc99b114f009975105f2dfce413",
            "813f9094da2a4e139ed492b47b6b7a7c",
            "ec5c340af20d427b93e64cfcc32b5633",
            "523d3af5d7d74a8e816632eb28d69027",
            "e1794ad1805942158e89dbd6e1c400e1",
            "547fdd4d99024ce6b4fba2af295025ee",
            "46e1e48a26af4b8384fe6ebc2e82fcd6",
            "f91085b6d81746f9bce223bb23d76925"
          ]
        },
        "id": "YLY7MZJfB82p",
        "outputId": "62fc6e8c-0907-47e8-8c33-e5a90311cf24"
      },
      "execution_count": 2,
      "outputs": [
        {
          "output_type": "stream",
          "name": "stderr",
          "text": [
            "/usr/local/lib/python3.10/dist-packages/beir/datasets/data_loader.py:2: TqdmExperimentalWarning: Using `tqdm.autonotebook.tqdm` in notebook mode. Use `tqdm.tqdm` instead to force console mode (e.g. in jupyter console)\n",
            "  from tqdm.autonotebook import tqdm\n"
          ]
        },
        {
          "output_type": "display_data",
          "data": {
            "text/plain": [
              "datasets/fiqa.zip:   0%|          | 0.00/17.1M [00:00<?, ?iB/s]"
            ],
            "application/vnd.jupyter.widget-view+json": {
              "version_major": 2,
              "version_minor": 0,
              "model_id": "d914e927162e418fb18c080039f014cd"
            }
          },
          "metadata": {}
        },
        {
          "output_type": "display_data",
          "data": {
            "text/plain": [
              "  0%|          | 0/57638 [00:00<?, ?it/s]"
            ],
            "application/vnd.jupyter.widget-view+json": {
              "version_major": 2,
              "version_minor": 0,
              "model_id": "2e82d659f1f641fb897f7fc7c8ea4fba"
            }
          },
          "metadata": {}
        }
      ]
    },
    {
      "cell_type": "code",
      "source": [
        "all_questions[0]"
      ],
      "metadata": {
        "colab": {
          "base_uri": "https://localhost:8080/",
          "height": 36
        },
        "id": "BLyQVRrcChwJ",
        "outputId": "794a7d16-5b10-4989-a197-9bafdc851d15"
      },
      "execution_count": 3,
      "outputs": [
        {
          "output_type": "execute_result",
          "data": {
            "text/plain": [
              "'How to deposit a cheque issued to an associate in my business into my business account?'"
            ],
            "application/vnd.google.colaboratory.intrinsic+json": {
              "type": "string"
            }
          },
          "metadata": {},
          "execution_count": 3
        }
      ]
    },
    {
      "cell_type": "code",
      "source": [
        "all_answers[0]"
      ],
      "metadata": {
        "colab": {
          "base_uri": "https://localhost:8080/",
          "height": 72
        },
        "id": "HLBu1xvYCpVu",
        "outputId": "7f90dd3e-2611-4dc0-8280-1d1d88db0a6f"
      },
      "execution_count": 4,
      "outputs": [
        {
          "output_type": "execute_result",
          "data": {
            "text/plain": [
              "\"I'm not saying I don't like the idea of on-the-job training too, but you can't expect the company to do that. Training workers is not their job - they're building software. Perhaps educational systems in the U.S. (or their students) should worry a little about getting marketable skills in exchange for their massive investment in education, rather than getting out with thousands in student debt and then complaining that they aren't qualified to do anything.\""
            ],
            "application/vnd.google.colaboratory.intrinsic+json": {
              "type": "string"
            }
          },
          "metadata": {},
          "execution_count": 4
        }
      ]
    },
    {
      "cell_type": "markdown",
      "source": [
        "#Initialising Embedding Model"
      ],
      "metadata": {
        "id": "E0hwDtrOCyIn"
      }
    },
    {
      "cell_type": "code",
      "source": [
        "from sentence_transformers import SentenceTransformer\n",
        "\n",
        "\n",
        "small_model = SentenceTransformer('all-MiniLM-L6-v2')\n",
        "large_model = SentenceTransformer('sentence-transformers/msmarco-distilbert-base-v4')"
      ],
      "metadata": {
        "id": "U5QdID9_CrHi"
      },
      "execution_count": 31,
      "outputs": []
    },
    {
      "cell_type": "markdown",
      "source": [
        "#Converting Answers to Embeddings"
      ],
      "metadata": {
        "id": "JZNCK4fzDU0J"
      }
    },
    {
      "cell_type": "code",
      "source": [
        "all_answers_embeddings_small = small_model.encode(all_answers, device='cuda')"
      ],
      "metadata": {
        "id": "XdOoVzANCwZw"
      },
      "execution_count": 7,
      "outputs": []
    },
    {
      "cell_type": "code",
      "source": [
        "all_answers_embeddings_large = large_model.encode(all_answers, device='cuda')"
      ],
      "metadata": {
        "id": "nsD4G9T6Dlea"
      },
      "execution_count": 34,
      "outputs": []
    },
    {
      "cell_type": "code",
      "source": [],
      "metadata": {
        "id": "O9qMLWjrELWE"
      },
      "execution_count": null,
      "outputs": []
    },
    {
      "cell_type": "code",
      "source": [
        "question  =\"How to deposit a cheque issued to an associate in my business into my business account?\""
      ],
      "metadata": {
        "id": "if_--mwxEbax"
      },
      "execution_count": 9,
      "outputs": []
    },
    {
      "cell_type": "code",
      "source": [
        "ques_embedding_small = small_model.encode(question, device='cuda')"
      ],
      "metadata": {
        "id": "ExZCjZSFEw7r"
      },
      "execution_count": 10,
      "outputs": []
    },
    {
      "cell_type": "code",
      "source": [
        "ques_embedding_large = large_model.encode(question, device='cuda')"
      ],
      "metadata": {
        "id": "KYCK52M4Ez-s"
      },
      "execution_count": 11,
      "outputs": []
    },
    {
      "cell_type": "markdown",
      "source": [
        "#Finding relevant passages\n"
      ],
      "metadata": {
        "id": "HK_-gMJSE8QH"
      }
    },
    {
      "cell_type": "code",
      "source": [
        "import numpy as np\n",
        "\n",
        "def get_most_similar_answers(question_embedding, answer_embeddings, answer_strings,top_k):\n",
        "\n",
        "    def cosine_similarity(a, b):\n",
        "        return np.dot(a, b) / (np.linalg.norm(a) * np.linalg.norm(b))\n",
        "\n",
        "    similarity_scores = [cosine_similarity(question_embedding, answer_embedding) for answer_embedding in answer_embeddings]\n",
        "\n",
        "    top_indices = np.argsort(similarity_scores)[-top_k:][::-1]\n",
        "    top_answers = [answer_strings[i] for i in top_indices]\n",
        "\n",
        "    return top_answers"
      ],
      "metadata": {
        "id": "wg2xf7XeFDjJ"
      },
      "execution_count": 12,
      "outputs": []
    },
    {
      "cell_type": "code",
      "source": [
        "similar_answers = get_most_similar_answers(ques_embedding_small,all_answers_embeddings_small,all_answers,5)"
      ],
      "metadata": {
        "id": "vHu3UBmXFJ8V"
      },
      "execution_count": 13,
      "outputs": []
    },
    {
      "cell_type": "code",
      "source": [
        "for i in similar_answers:\n",
        "  print(i,'\\n')"
      ],
      "metadata": {
        "colab": {
          "base_uri": "https://localhost:8080/"
        },
        "id": "Sgj6w_ihFMa0",
        "outputId": "e7e28f3e-3b1d-42a0-d71c-6436fec4ef32"
      },
      "execution_count": 14,
      "outputs": [
        {
          "output_type": "stream",
          "name": "stdout",
          "text": [
            "Just have the associate sign the back and then deposit it.  It's called a third party cheque and is perfectly legal.  I wouldn't be surprised if it has a longer hold period and, as always, you don't get the money if the cheque doesn't clear. Now, you may have problems if it's a large amount or you're not very well known at the bank.  In that case you can have the associate go to the bank and endorse it in front of the teller with some ID.  You don't even technically have to be there.  Anybody can deposit money to your account if they have the account number. He could also just deposit it in his account and write a cheque to the business. \n",
            "\n",
            "\"I have checked with Bank of America, and they say the ONLY way to cash (or deposit, or otherwise get access to the funds represented by a check made out to my business) is to open a business account. They tell me this is a Federal regulation, and every bank will say the same thing.  To do this, I need a state-issued \"\"dba\"\" certificate (from the county clerk's office) as well as an Employer ID Number (EIN) issued by the IRS. AND their CHEAPEST business banking account costs $15 / month. I think I can go to the bank that the check is drawn upon, and they will cash it, assuming I have documentation showing that I am the sole proprietor. But I'm not sure.... What a racket!!\" \n",
            "\n",
            "Banks has to complete KYC. In case you want to open a bank account, most will ask for proof of address. I also feel it is difficult for bank to encash a cheque payable to a business in your account. Opening a bank account in the name of your business or alternatively obtaining a cheque payable to your personal name seems the only alternatives to me. \n",
            "\n",
            "When a business asks me to make out a cheque to a person rather than the business name, I take that as a red flag. Frankly it usually means that the person doesn't want the money going through their business account for some reason - probably tax evasion. I'm not saying you are doing that, but it is a frequent issue. If the company makes the cheque out to a person they may run the risk of being party to fraud. Worse still they only have your word for it that you actually own the company, and aren't ripping off your employer by pocketing their payment. Even worse, when the company is audited and finds that cheque, the person who wrote it will have to justify and document why they made it out to you or risk being charged with embezzlement. It's very much in their interests to make the cheque out to the company they did business with. Given that, you should really have an account in the name of your business. It's going to make your life much simpler in the long run. \n",
            "\n",
            "Assuming it's your business, endorse the check as yourself and your DBA name, payable to your personal account \n",
            "\n"
          ]
        }
      ]
    },
    {
      "cell_type": "code",
      "source": [],
      "metadata": {
        "id": "yKPBoDTqFOZt"
      },
      "execution_count": null,
      "outputs": []
    },
    {
      "cell_type": "markdown",
      "source": [
        "#Reranking Passages\n"
      ],
      "metadata": {
        "id": "rwIZe6uHFSMi"
      }
    },
    {
      "cell_type": "code",
      "source": [
        "from sentence_transformers import CrossEncoder\n",
        "\n",
        "def rerank_docs(query, docs, model_name):\n",
        "\n",
        "    reranker = CrossEncoder(model_name,device = 'cuda')\n",
        "    pairs = [(query, doc) for doc in docs]\n",
        "    scores = reranker.predict(pairs)\n",
        "\n",
        "    ranked_docs = [doc for _, doc in sorted(zip(scores, docs), reverse=True)]\n",
        "\n",
        "    return ranked_docs"
      ],
      "metadata": {
        "id": "ug6cUYBZFWYs"
      },
      "execution_count": 15,
      "outputs": []
    },
    {
      "cell_type": "code",
      "source": [
        "reranked_results = rerank_docs(question,similar_answers,model_name = 'BAAI/bge-reranker-large')"
      ],
      "metadata": {
        "id": "oYL_nX3PFX4x"
      },
      "execution_count": 17,
      "outputs": []
    },
    {
      "cell_type": "code",
      "source": [
        "for i in reranked_results:\n",
        "  print(i,'\\n')"
      ],
      "metadata": {
        "colab": {
          "base_uri": "https://localhost:8080/"
        },
        "id": "AGXlsylcFZ5Z",
        "outputId": "ad28bee3-671a-4b09-ab48-af69d633df3c"
      },
      "execution_count": 18,
      "outputs": [
        {
          "output_type": "stream",
          "name": "stdout",
          "text": [
            "Just have the associate sign the back and then deposit it.  It's called a third party cheque and is perfectly legal.  I wouldn't be surprised if it has a longer hold period and, as always, you don't get the money if the cheque doesn't clear. Now, you may have problems if it's a large amount or you're not very well known at the bank.  In that case you can have the associate go to the bank and endorse it in front of the teller with some ID.  You don't even technically have to be there.  Anybody can deposit money to your account if they have the account number. He could also just deposit it in his account and write a cheque to the business. \n",
            "\n",
            "\"I have checked with Bank of America, and they say the ONLY way to cash (or deposit, or otherwise get access to the funds represented by a check made out to my business) is to open a business account. They tell me this is a Federal regulation, and every bank will say the same thing.  To do this, I need a state-issued \"\"dba\"\" certificate (from the county clerk's office) as well as an Employer ID Number (EIN) issued by the IRS. AND their CHEAPEST business banking account costs $15 / month. I think I can go to the bank that the check is drawn upon, and they will cash it, assuming I have documentation showing that I am the sole proprietor. But I'm not sure.... What a racket!!\" \n",
            "\n",
            "When a business asks me to make out a cheque to a person rather than the business name, I take that as a red flag. Frankly it usually means that the person doesn't want the money going through their business account for some reason - probably tax evasion. I'm not saying you are doing that, but it is a frequent issue. If the company makes the cheque out to a person they may run the risk of being party to fraud. Worse still they only have your word for it that you actually own the company, and aren't ripping off your employer by pocketing their payment. Even worse, when the company is audited and finds that cheque, the person who wrote it will have to justify and document why they made it out to you or risk being charged with embezzlement. It's very much in their interests to make the cheque out to the company they did business with. Given that, you should really have an account in the name of your business. It's going to make your life much simpler in the long run. \n",
            "\n",
            "Assuming it's your business, endorse the check as yourself and your DBA name, payable to your personal account \n",
            "\n",
            "Banks has to complete KYC. In case you want to open a bank account, most will ask for proof of address. I also feel it is difficult for bank to encash a cheque payable to a business in your account. Opening a bank account in the name of your business or alternatively obtaining a cheque payable to your personal name seems the only alternatives to me. \n",
            "\n"
          ]
        }
      ]
    },
    {
      "cell_type": "code",
      "source": [],
      "metadata": {
        "id": "iv1QPOgiFfsT"
      },
      "execution_count": null,
      "outputs": []
    },
    {
      "cell_type": "markdown",
      "source": [
        "##Getting already known passages from dataset"
      ],
      "metadata": {
        "id": "_lkjvpIfFlkT"
      }
    },
    {
      "cell_type": "code",
      "source": [
        "def get_relevant_passages(index):\n",
        "    query_id = list(queries.keys())[index]  # Get the first query as an example\n",
        "    query_text = queries[query_id]      # Retrieve the query text\n",
        "    relevant_doc_ids = qrels[query_id]  # Get the relevant document IDs for the query\n",
        "\n",
        "    # Retrieve the relevant passages from the corpus using the document IDs\n",
        "    relevant_passages = [corpus[doc_id][\"text\"] for doc_id in relevant_doc_ids]\n",
        "    return relevant_passages"
      ],
      "metadata": {
        "id": "qRdA6TNHFwh8"
      },
      "execution_count": 20,
      "outputs": []
    },
    {
      "cell_type": "code",
      "source": [
        "relevant_passages = get_relevant_passages(0)"
      ],
      "metadata": {
        "id": "pbxHi4vtFxYr"
      },
      "execution_count": 21,
      "outputs": []
    },
    {
      "cell_type": "code",
      "source": [
        "for i in relevant_passages:\n",
        "  print(i,'\\n')"
      ],
      "metadata": {
        "colab": {
          "base_uri": "https://localhost:8080/"
        },
        "id": "SCk5NE4KF1zc",
        "outputId": "8256c9c9-0f96-4852-ea27-e83972429645"
      },
      "execution_count": 22,
      "outputs": [
        {
          "output_type": "stream",
          "name": "stdout",
          "text": [
            "Have the check reissued to the proper payee. \n",
            "\n",
            "Just have the associate sign the back and then deposit it.  It's called a third party cheque and is perfectly legal.  I wouldn't be surprised if it has a longer hold period and, as always, you don't get the money if the cheque doesn't clear. Now, you may have problems if it's a large amount or you're not very well known at the bank.  In that case you can have the associate go to the bank and endorse it in front of the teller with some ID.  You don't even technically have to be there.  Anybody can deposit money to your account if they have the account number. He could also just deposit it in his account and write a cheque to the business. \n",
            "\n"
          ]
        }
      ]
    },
    {
      "cell_type": "code",
      "source": [],
      "metadata": {
        "id": "O6KIYTmdF3iK"
      },
      "execution_count": null,
      "outputs": []
    },
    {
      "cell_type": "markdown",
      "source": [
        "#Creating NDCG Metrics"
      ],
      "metadata": {
        "id": "2N9Dszq3F8os"
      }
    },
    {
      "cell_type": "code",
      "source": [
        "import numpy as np\n",
        "from sklearn.metrics import make_scorer\n",
        "\n",
        "def dcg(relevance):\n",
        "    \"\"\"Calculate DCG given a list of relevance scores.\"\"\"\n",
        "    return np.sum([rel / np.log2(idx + 2) for idx, rel in enumerate(relevance)])\n",
        "\n",
        "def ndcg(retrieved, relevant, k=10):\n",
        "    \"\"\"Calculate NDCG@k.\"\"\"\n",
        "    retrieved = retrieved[:k]\n",
        "    ideal = sorted(relevant, reverse=True)[:k]\n",
        "\n",
        "    dcg_value = dcg(retrieved)\n",
        "    idcg_value = dcg(ideal)\n",
        "\n",
        "    return dcg_value / idcg_value if idcg_value > 0 else 0\n",
        "\n"
      ],
      "metadata": {
        "id": "r5xGqBTwF_vm"
      },
      "execution_count": 23,
      "outputs": []
    },
    {
      "cell_type": "code",
      "source": [
        "relevant_answers = relevant_passages\n",
        "\n",
        "retrieved_answers = reranked_results\n",
        "\n",
        "relevance = [1 if ans in relevant_answers else 0 for ans in retrieved_answers]\n",
        "\n",
        "k = 10\n",
        "ndcg_value = ndcg(relevance, relevance, k)\n",
        "print(f\"NDCG@{k}: {ndcg_value:.4f}\")\n"
      ],
      "metadata": {
        "colab": {
          "base_uri": "https://localhost:8080/"
        },
        "id": "L_ABKWfDGBUe",
        "outputId": "a8233d9d-f8f6-40ad-f708-6fe09cb8f173"
      },
      "execution_count": 24,
      "outputs": [
        {
          "output_type": "stream",
          "name": "stdout",
          "text": [
            "NDCG@10: 1.0000\n"
          ]
        }
      ]
    },
    {
      "cell_type": "code",
      "source": [],
      "metadata": {
        "id": "uJHI8T3wGCLq"
      },
      "execution_count": null,
      "outputs": []
    },
    {
      "cell_type": "markdown",
      "source": [
        "#**Testing the Pipeline**"
      ],
      "metadata": {
        "id": "b-Bs3HNMGGV9"
      }
    },
    {
      "cell_type": "markdown",
      "source": [
        "##Pipeline 1\n",
        "\n",
        "\n",
        "\n",
        "\n",
        "*   Embedding model = *all-MiniLM-L6-v2*\n",
        "\n",
        "\n"
      ],
      "metadata": {
        "id": "8DI1Iq5IGK6Q"
      }
    },
    {
      "cell_type": "code",
      "source": [
        "ndcg_values = []\n",
        "\n",
        "\n",
        "for i in range(0,len(all_questions)):\n",
        "  ques_embedding_small = small_model.encode(all_questions[i], device='cuda')\n",
        "  most_similar_answers = get_most_similar_answers(ques_embedding_small,all_answers_embeddings_small,all_answers,20)\n",
        "  relevant_passages = get_relevant_passages(i)\n",
        "  relevance = [1 if ans in relevant_passages else 0 for ans in most_similar_answers]\n",
        "  k = 10\n",
        "  ndcg_values.append(ndcg(relevance, relevance, k))\n",
        ""
      ],
      "metadata": {
        "id": "rdbU7nXhGO8E"
      },
      "execution_count": 25,
      "outputs": []
    },
    {
      "cell_type": "code",
      "source": [
        "pipeline1_mean_value = np.mean(ndcg_values)\n",
        "pipeline1_mean_value"
      ],
      "metadata": {
        "colab": {
          "base_uri": "https://localhost:8080/"
        },
        "id": "fYmOsmwwGPtp",
        "outputId": "eeee8e02-cbd4-47c3-b0eb-7b12096fefec"
      },
      "execution_count": 26,
      "outputs": [
        {
          "output_type": "execute_result",
          "data": {
            "text/plain": [
              "0.4631186562544391"
            ]
          },
          "metadata": {},
          "execution_count": 26
        }
      ]
    },
    {
      "cell_type": "code",
      "source": [],
      "metadata": {
        "id": "loAPy8ceH8xV"
      },
      "execution_count": 26,
      "outputs": []
    },
    {
      "cell_type": "code",
      "source": [],
      "metadata": {
        "id": "OAQImvG8H_Wx"
      },
      "execution_count": null,
      "outputs": []
    },
    {
      "cell_type": "markdown",
      "source": [
        "##Pipeline 2\n",
        "\n",
        "\n",
        "\n",
        "\n",
        "*   Embedding model = *distilbert-base-nli-stsb-mean-tokens*\n"
      ],
      "metadata": {
        "id": "YUYU5imxIDKK"
      }
    },
    {
      "cell_type": "code",
      "source": [
        "ndcg_values = []\n",
        "\n",
        "\n",
        "for i in range(0,len(all_questions)):\n",
        "  ques_embedding_large = large_model.encode(all_questions[i], device='cuda')\n",
        "  most_similar_answers = get_most_similar_answers(ques_embedding_large,all_answers_embeddings_large,all_answers,20)\n",
        "  relevant_passages = get_relevant_passages(i)\n",
        "  relevance = [1 if ans in relevant_passages else 0 for ans in most_similar_answers]\n",
        "  k = 10\n",
        "  ndcg_values.append(ndcg(relevance, relevance, k))"
      ],
      "metadata": {
        "id": "UwT8xKLnIQMC"
      },
      "execution_count": 35,
      "outputs": []
    },
    {
      "cell_type": "code",
      "source": [
        "pipeline2_mean_value = np.mean(ndcg_values)\n",
        "pipeline2_mean_value"
      ],
      "metadata": {
        "colab": {
          "base_uri": "https://localhost:8080/"
        },
        "id": "AZRK34AxIXEF",
        "outputId": "f31629ac-702d-46e6-b869-41fdd49f2266"
      },
      "execution_count": 36,
      "outputs": [
        {
          "output_type": "execute_result",
          "data": {
            "text/plain": [
              "0.3275882284859829"
            ]
          },
          "metadata": {},
          "execution_count": 36
        }
      ]
    },
    {
      "cell_type": "code",
      "source": [],
      "metadata": {
        "id": "m2Doq96NIYMn"
      },
      "execution_count": 27,
      "outputs": []
    },
    {
      "cell_type": "markdown",
      "source": [
        "#Comparison b/w models"
      ],
      "metadata": {
        "id": "dZotgsB2IoQM"
      }
    },
    {
      "cell_type": "code",
      "source": [
        "import matplotlib.pyplot as plt\n",
        "\n",
        "values = [pipeline1_mean_value, pipeline2_mean_value]\n",
        "labels = ['all-MiniLM', 'distilbert-base']\n",
        "\n",
        "plt.bar(labels, values)\n",
        "\n",
        "plt.title('Comparison with different Embedding Models')\n",
        "plt.xlabel('Models')\n",
        "plt.ylabel('Accuray')\n",
        "\n",
        "plt.show()"
      ],
      "metadata": {
        "colab": {
          "base_uri": "https://localhost:8080/",
          "height": 472
        },
        "id": "Q5kxakiAIYO-",
        "outputId": "74a06e45-9126-4649-9453-687ea20f225b"
      },
      "execution_count": 47,
      "outputs": [
        {
          "output_type": "display_data",
          "data": {
            "text/plain": [
              "<Figure size 640x480 with 1 Axes>"
            ],
            "image/png": "[encoded data removed]"
          },
          "metadata": {}
        }
      ]
    },
    {
      "cell_type": "markdown",
      "source": [
        "##Pipeline 3\n",
        "\n",
        "\n",
        "\n",
        "\n",
        "*   Embedding model = *distilbert-base-nli-stsb-mean-tokens*\n",
        "*   Reranking model = *cross-encoder/ms-marco-MiniLM-L-6-v2*\n"
      ],
      "metadata": {
        "id": "Yp4MmWS0IY4K"
      }
    },
    {
      "cell_type": "code",
      "source": [
        "ndcg_values = []\n",
        "\n",
        "\n",
        "for i in range(0,len(all_questions)):\n",
        "  ques_embedding_large = large_model.encode(all_questions[i], device='cuda')\n",
        "  most_similar_answers = get_most_similar_answers(ques_embedding_large,all_answers_embeddings_large,all_answers,20)\n",
        "  reranked_passages = rerank_docs(all_questions[i],most_similar_answers,model_name = 'cross-encoder/ms-marco-MiniLM-L-6-v2')\n",
        "  relevant_passages = get_relevant_passages(i)\n",
        "  relevance = [1 if ans in relevant_passages else 0 for ans in reranked_passages]\n",
        "  k = 10\n",
        "  ndcg_values.append(ndcg(relevance, relevance, k))\n",
        ""
      ],
      "metadata": {
        "id": "6L5DpwNeIlBC"
      },
      "execution_count": 39,
      "outputs": []
    },
    {
      "cell_type": "code",
      "source": [
        "pipeline3_mean_value = np.mean(ndcg_values)\n",
        "pipeline3_mean_value"
      ],
      "metadata": {
        "colab": {
          "base_uri": "https://localhost:8080/"
        },
        "id": "J89AZymCIt6z",
        "outputId": "1b033e85-4127-4f46-a4eb-30d9868718d0"
      },
      "execution_count": 40,
      "outputs": [
        {
          "output_type": "execute_result",
          "data": {
            "text/plain": [
              "0.41651327771630037"
            ]
          },
          "metadata": {},
          "execution_count": 40
        }
      ]
    },
    {
      "cell_type": "markdown",
      "source": [
        "##Pipeline 4\n",
        "\n",
        "\n",
        "\n",
        "\n",
        "*   Embedding model = *distilbert-base-nli-stsb-mean-tokens*\n",
        "*   Reranking model = *efederici/cross-encoder-bert-base-stsb*\n"
      ],
      "metadata": {
        "id": "Hh1NOlj1IuVH"
      }
    },
    {
      "cell_type": "code",
      "source": [
        "ndcg_values = []\n",
        "\n",
        "\n",
        "for i in range(0,len(all_questions)):\n",
        "  ques_embedding_large = large_model.encode(all_questions[i], device='cuda')\n",
        "  most_similar_answers = get_most_similar_answers(ques_embedding_large,all_answers_embeddings_large,all_answers,20)\n",
        "  reranked_passages = rerank_docs(all_questions[i],most_similar_answers,model_name = 'efederici/cross-encoder-bert-base-stsb')\n",
        "  relevant_passages = get_relevant_passages(i)\n",
        "  relevance = [1 if ans in relevant_passages else 0 for ans in reranked_passages]\n",
        "  k = 10\n",
        "  ndcg_values.append(ndcg(relevance, relevance, k))"
      ],
      "metadata": {
        "id": "Tzzq6d6IJAVV"
      },
      "execution_count": 42,
      "outputs": []
    },
    {
      "cell_type": "code",
      "source": [
        "pipeline4_mean_value = np.mean(ndcg_values)\n",
        "pipeline4_mean_value"
      ],
      "metadata": {
        "colab": {
          "base_uri": "https://localhost:8080/"
        },
        "id": "oQmEHVNkJAgl",
        "outputId": "6150a04e-2fb5-410d-a06d-a562fb3e9567"
      },
      "execution_count": 43,
      "outputs": [
        {
          "output_type": "execute_result",
          "data": {
            "text/plain": [
              "0.3104511870912487"
            ]
          },
          "metadata": {},
          "execution_count": 43
        }
      ]
    },
    {
      "cell_type": "markdown",
      "source": [
        "#Comparison with and without Rerankers"
      ],
      "metadata": {
        "id": "RUThEbTqJDSf"
      }
    },
    {
      "cell_type": "code",
      "source": [
        "import matplotlib.pyplot as plt\n",
        "\n",
        "values = [pipeline2_mean_value, pipeline3_mean_value,pipeline4_mean_value]\n",
        "labels = ['distilbert-base','distilbert-base\\nwith reranker\\nMiniLM-L-6-v2','distilbert-base\\nwith reranker\\nbert-base-stsb']\n",
        "\n",
        "plt.bar(labels, values)\n",
        "\n",
        "plt.title('Comparison with different rerankers')\n",
        "plt.xlabel('Accuray')\n",
        "plt.ylabel('Models')\n",
        "\n",
        "plt.show()"
      ],
      "metadata": {
        "colab": {
          "base_uri": "https://localhost:8080/",
          "height": 504
        },
        "id": "9gCUe6yaJLWC",
        "outputId": "17c1725c-0d86-4906-ec36-4edb7e465911"
      },
      "execution_count": 46,
      "outputs": [
        {
          "output_type": "display_data",
          "data": {
            "text/plain": [
              "<Figure size 640x480 with 1 Axes>"
            ],
            "image/png": "[encoded data removed]"
          },
          "metadata": {}
        }
      ]
    },
    {
      "cell_type": "code",
      "source": [],
      "metadata": {
        "id": "kNGxSqvndrtR"
      },
      "execution_count": null,
      "outputs": []
    }
  ]
}